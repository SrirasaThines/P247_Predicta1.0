{
 "cells": [
  {
   "cell_type": "markdown",
   "id": "0cd51c3c",
   "metadata": {
    "id": "R5jiYhIuosKH",
    "papermill": {
     "duration": 0.009075,
     "end_time": "2024-06-24T11:15:53.853535",
     "exception": false,
     "start_time": "2024-06-24T11:15:53.844460",
     "status": "completed"
    },
    "tags": []
   },
   "source": [
    "#Importing Libraries\n"
   ]
  },
  {
   "cell_type": "code",
   "execution_count": 1,
   "id": "9a1d3968",
   "metadata": {
    "execution": {
     "iopub.execute_input": "2024-06-24T11:15:53.873535Z",
     "iopub.status.busy": "2024-06-24T11:15:53.872898Z",
     "iopub.status.idle": "2024-06-24T11:15:56.303157Z",
     "shell.execute_reply": "2024-06-24T11:15:56.301702Z"
    },
    "id": "67kCi-1WlPjP",
    "papermill": {
     "duration": 2.443167,
     "end_time": "2024-06-24T11:15:56.305609",
     "exception": false,
     "start_time": "2024-06-24T11:15:53.862442",
     "status": "completed"
    },
    "tags": []
   },
   "outputs": [],
   "source": [
    "import pandas as pd\n",
    "from sklearn.model_selection import train_test_split\n",
    "from sklearn.ensemble import RandomForestRegressor\n",
    "from sklearn.metrics import mean_squared_error\n",
    "import numpy as np\n"
   ]
  },
  {
   "cell_type": "markdown",
   "id": "4ff57984",
   "metadata": {
    "id": "w-HkQxSmorwW",
    "papermill": {
     "duration": 0.00871,
     "end_time": "2024-06-24T11:15:56.323345",
     "exception": false,
     "start_time": "2024-06-24T11:15:56.314635",
     "status": "completed"
    },
    "tags": []
   },
   "source": [
    "Import Data set"
   ]
  },
  {
   "cell_type": "code",
   "execution_count": 2,
   "id": "a59e7d1c",
   "metadata": {
    "execution": {
     "iopub.execute_input": "2024-06-24T11:15:56.343447Z",
     "iopub.status.busy": "2024-06-24T11:15:56.342893Z",
     "iopub.status.idle": "2024-06-24T11:15:56.615717Z",
     "shell.execute_reply": "2024-06-24T11:15:56.614500Z"
    },
    "id": "zchrMwUao9mT",
    "outputId": "e42ba21f-c6ba-46fe-e0e8-7227ff273980",
    "papermill": {
     "duration": 0.28573,
     "end_time": "2024-06-24T11:15:56.618113",
     "exception": false,
     "start_time": "2024-06-24T11:15:56.332383",
     "status": "completed"
    },
    "tags": []
   },
   "outputs": [
    {
     "data": {
      "text/html": [
       "<div>\n",
       "<style scoped>\n",
       "    .dataframe tbody tr th:only-of-type {\n",
       "        vertical-align: middle;\n",
       "    }\n",
       "\n",
       "    .dataframe tbody tr th {\n",
       "        vertical-align: top;\n",
       "    }\n",
       "\n",
       "    .dataframe thead th {\n",
       "        text-align: right;\n",
       "    }\n",
       "</style>\n",
       "<table border=\"1\" class=\"dataframe\">\n",
       "  <thead>\n",
       "    <tr style=\"text-align: right;\">\n",
       "      <th></th>\n",
       "      <th>city_id</th>\n",
       "      <th>date</th>\n",
       "      <th>avg_temp_c</th>\n",
       "      <th>min_temp_c</th>\n",
       "      <th>max_temp_c</th>\n",
       "      <th>precipitation_mm</th>\n",
       "      <th>snow_depth_mm</th>\n",
       "      <th>avg_wind_dir_deg</th>\n",
       "      <th>avg_wind_speed_kmh</th>\n",
       "    </tr>\n",
       "  </thead>\n",
       "  <tbody>\n",
       "    <tr>\n",
       "      <th>0</th>\n",
       "      <td>C001</td>\n",
       "      <td>2014-01-01</td>\n",
       "      <td>6.6</td>\n",
       "      <td>-1.4</td>\n",
       "      <td>11.6</td>\n",
       "      <td>NaN</td>\n",
       "      <td>NaN</td>\n",
       "      <td>168.0</td>\n",
       "      <td>6.2</td>\n",
       "    </tr>\n",
       "    <tr>\n",
       "      <th>1</th>\n",
       "      <td>C001</td>\n",
       "      <td>2014-01-02</td>\n",
       "      <td>9.3</td>\n",
       "      <td>6.3</td>\n",
       "      <td>13.3</td>\n",
       "      <td>NaN</td>\n",
       "      <td>NaN</td>\n",
       "      <td>155.0</td>\n",
       "      <td>10.0</td>\n",
       "    </tr>\n",
       "    <tr>\n",
       "      <th>2</th>\n",
       "      <td>C001</td>\n",
       "      <td>2014-01-03</td>\n",
       "      <td>7.6</td>\n",
       "      <td>1.9</td>\n",
       "      <td>14.0</td>\n",
       "      <td>NaN</td>\n",
       "      <td>NaN</td>\n",
       "      <td>NaN</td>\n",
       "      <td>5.8</td>\n",
       "    </tr>\n",
       "    <tr>\n",
       "      <th>3</th>\n",
       "      <td>C001</td>\n",
       "      <td>2014-01-04</td>\n",
       "      <td>7.6</td>\n",
       "      <td>3.9</td>\n",
       "      <td>13.3</td>\n",
       "      <td>NaN</td>\n",
       "      <td>NaN</td>\n",
       "      <td>291.0</td>\n",
       "      <td>11.3</td>\n",
       "    </tr>\n",
       "    <tr>\n",
       "      <th>4</th>\n",
       "      <td>C001</td>\n",
       "      <td>2014-01-05</td>\n",
       "      <td>8.6</td>\n",
       "      <td>0.5</td>\n",
       "      <td>16.9</td>\n",
       "      <td>NaN</td>\n",
       "      <td>NaN</td>\n",
       "      <td>NaN</td>\n",
       "      <td>5.0</td>\n",
       "    </tr>\n",
       "    <tr>\n",
       "      <th>...</th>\n",
       "      <td>...</td>\n",
       "      <td>...</td>\n",
       "      <td>...</td>\n",
       "      <td>...</td>\n",
       "      <td>...</td>\n",
       "      <td>...</td>\n",
       "      <td>...</td>\n",
       "      <td>...</td>\n",
       "      <td>...</td>\n",
       "    </tr>\n",
       "    <tr>\n",
       "      <th>182333</th>\n",
       "      <td>C112</td>\n",
       "      <td>2018-12-27</td>\n",
       "      <td>22.0</td>\n",
       "      <td>15.9</td>\n",
       "      <td>27.9</td>\n",
       "      <td>0.0</td>\n",
       "      <td>NaN</td>\n",
       "      <td>100.0</td>\n",
       "      <td>13.2</td>\n",
       "    </tr>\n",
       "    <tr>\n",
       "      <th>182334</th>\n",
       "      <td>C112</td>\n",
       "      <td>2018-12-28</td>\n",
       "      <td>21.9</td>\n",
       "      <td>14.9</td>\n",
       "      <td>28.2</td>\n",
       "      <td>0.0</td>\n",
       "      <td>NaN</td>\n",
       "      <td>91.0</td>\n",
       "      <td>12.6</td>\n",
       "    </tr>\n",
       "    <tr>\n",
       "      <th>182335</th>\n",
       "      <td>C112</td>\n",
       "      <td>2018-12-29</td>\n",
       "      <td>22.4</td>\n",
       "      <td>16.3</td>\n",
       "      <td>28.2</td>\n",
       "      <td>0.0</td>\n",
       "      <td>NaN</td>\n",
       "      <td>61.0</td>\n",
       "      <td>14.2</td>\n",
       "    </tr>\n",
       "    <tr>\n",
       "      <th>182336</th>\n",
       "      <td>C112</td>\n",
       "      <td>2018-12-30</td>\n",
       "      <td>21.6</td>\n",
       "      <td>18.5</td>\n",
       "      <td>26.6</td>\n",
       "      <td>1.6</td>\n",
       "      <td>NaN</td>\n",
       "      <td>70.0</td>\n",
       "      <td>17.0</td>\n",
       "    </tr>\n",
       "    <tr>\n",
       "      <th>182337</th>\n",
       "      <td>C112</td>\n",
       "      <td>2018-12-31</td>\n",
       "      <td>20.2</td>\n",
       "      <td>17.1</td>\n",
       "      <td>25.0</td>\n",
       "      <td>17.5</td>\n",
       "      <td>NaN</td>\n",
       "      <td>103.0</td>\n",
       "      <td>12.6</td>\n",
       "    </tr>\n",
       "  </tbody>\n",
       "</table>\n",
       "<p>182338 rows × 9 columns</p>\n",
       "</div>"
      ],
      "text/plain": [
       "       city_id        date  avg_temp_c  min_temp_c  max_temp_c  \\\n",
       "0         C001  2014-01-01         6.6        -1.4        11.6   \n",
       "1         C001  2014-01-02         9.3         6.3        13.3   \n",
       "2         C001  2014-01-03         7.6         1.9        14.0   \n",
       "3         C001  2014-01-04         7.6         3.9        13.3   \n",
       "4         C001  2014-01-05         8.6         0.5        16.9   \n",
       "...        ...         ...         ...         ...         ...   \n",
       "182333    C112  2018-12-27        22.0        15.9        27.9   \n",
       "182334    C112  2018-12-28        21.9        14.9        28.2   \n",
       "182335    C112  2018-12-29        22.4        16.3        28.2   \n",
       "182336    C112  2018-12-30        21.6        18.5        26.6   \n",
       "182337    C112  2018-12-31        20.2        17.1        25.0   \n",
       "\n",
       "        precipitation_mm  snow_depth_mm  avg_wind_dir_deg  avg_wind_speed_kmh  \n",
       "0                    NaN            NaN             168.0                 6.2  \n",
       "1                    NaN            NaN             155.0                10.0  \n",
       "2                    NaN            NaN               NaN                 5.8  \n",
       "3                    NaN            NaN             291.0                11.3  \n",
       "4                    NaN            NaN               NaN                 5.0  \n",
       "...                  ...            ...               ...                 ...  \n",
       "182333               0.0            NaN             100.0                13.2  \n",
       "182334               0.0            NaN              91.0                12.6  \n",
       "182335               0.0            NaN              61.0                14.2  \n",
       "182336               1.6            NaN              70.0                17.0  \n",
       "182337              17.5            NaN             103.0                12.6  \n",
       "\n",
       "[182338 rows x 9 columns]"
      ]
     },
     "execution_count": 2,
     "metadata": {},
     "output_type": "execute_result"
    }
   ],
   "source": [
    "# Load the dataset\n",
    "data = pd.read_csv(\"/kaggle/input/predicta-1-0-predict-the-unpredictable/historical_weather.csv\")\n",
    "\n",
    "data\n"
   ]
  },
  {
   "cell_type": "code",
   "execution_count": 3,
   "id": "7ab3ac18",
   "metadata": {
    "execution": {
     "iopub.execute_input": "2024-06-24T11:15:56.639510Z",
     "iopub.status.busy": "2024-06-24T11:15:56.639142Z",
     "iopub.status.idle": "2024-06-24T11:15:56.681066Z",
     "shell.execute_reply": "2024-06-24T11:15:56.679522Z"
    },
    "papermill": {
     "duration": 0.055356,
     "end_time": "2024-06-24T11:15:56.683793",
     "exception": false,
     "start_time": "2024-06-24T11:15:56.628437",
     "status": "completed"
    },
    "tags": []
   },
   "outputs": [
    {
     "name": "stdout",
     "output_type": "stream",
     "text": [
      "<class 'pandas.core.frame.DataFrame'>\n",
      "RangeIndex: 182338 entries, 0 to 182337\n",
      "Data columns (total 9 columns):\n",
      " #   Column              Non-Null Count   Dtype  \n",
      "---  ------              --------------   -----  \n",
      " 0   city_id             182338 non-null  object \n",
      " 1   date                182338 non-null  object \n",
      " 2   avg_temp_c          181114 non-null  float64\n",
      " 3   min_temp_c          176452 non-null  float64\n",
      " 4   max_temp_c          174845 non-null  float64\n",
      " 5   precipitation_mm    112594 non-null  float64\n",
      " 6   snow_depth_mm       12238 non-null   float64\n",
      " 7   avg_wind_dir_deg    146944 non-null  float64\n",
      " 8   avg_wind_speed_kmh  159866 non-null  float64\n",
      "dtypes: float64(7), object(2)\n",
      "memory usage: 12.5+ MB\n"
     ]
    }
   ],
   "source": [
    "data.info()"
   ]
  },
  {
   "cell_type": "markdown",
   "id": "6b51954e",
   "metadata": {
    "id": "NPEi5E6DpjHM",
    "papermill": {
     "duration": 0.009155,
     "end_time": "2024-06-24T11:15:56.702731",
     "exception": false,
     "start_time": "2024-06-24T11:15:56.693576",
     "status": "completed"
    },
    "tags": []
   },
   "source": [
    "#Data cleaning"
   ]
  },
  {
   "cell_type": "code",
   "execution_count": 4,
   "id": "36736b50",
   "metadata": {
    "execution": {
     "iopub.execute_input": "2024-06-24T11:15:56.723782Z",
     "iopub.status.busy": "2024-06-24T11:15:56.722907Z",
     "iopub.status.idle": "2024-06-24T11:15:56.750589Z",
     "shell.execute_reply": "2024-06-24T11:15:56.749376Z"
    },
    "id": "GNl9wtHBppEi",
    "outputId": "b8ac81b4-1dbd-4f0b-8fc5-cab5b81b6188",
    "papermill": {
     "duration": 0.040582,
     "end_time": "2024-06-24T11:15:56.752814",
     "exception": false,
     "start_time": "2024-06-24T11:15:56.712232",
     "status": "completed"
    },
    "tags": []
   },
   "outputs": [
    {
     "data": {
      "text/plain": [
       "city_id                    0\n",
       "date                       0\n",
       "avg_temp_c              1224\n",
       "min_temp_c              5886\n",
       "max_temp_c              7493\n",
       "precipitation_mm       69744\n",
       "snow_depth_mm         170100\n",
       "avg_wind_dir_deg       35394\n",
       "avg_wind_speed_kmh     22472\n",
       "dtype: int64"
      ]
     },
     "execution_count": 4,
     "metadata": {},
     "output_type": "execute_result"
    }
   ],
   "source": [
    "data.isna().sum()"
   ]
  },
  {
   "cell_type": "markdown",
   "id": "52971826",
   "metadata": {
    "id": "ugafVUmiuxBm",
    "papermill": {
     "duration": 0.009559,
     "end_time": "2024-06-24T11:15:56.773156",
     "exception": false,
     "start_time": "2024-06-24T11:15:56.763597",
     "status": "completed"
    },
    "tags": []
   },
   "source": []
  },
  {
   "cell_type": "markdown",
   "id": "6e722208",
   "metadata": {
    "id": "P_2njK2YwEyh",
    "papermill": {
     "duration": 0.009491,
     "end_time": "2024-06-24T11:15:56.792263",
     "exception": false,
     "start_time": "2024-06-24T11:15:56.782772",
     "status": "completed"
    },
    "tags": []
   },
   "source": [
    "#Data cleaning"
   ]
  },
  {
   "cell_type": "markdown",
   "id": "df269e5e",
   "metadata": {
    "id": "q45JIFCnwJh-",
    "papermill": {
     "duration": 0.009467,
     "end_time": "2024-06-24T11:15:56.811264",
     "exception": false,
     "start_time": "2024-06-24T11:15:56.801797",
     "status": "completed"
    },
    "tags": []
   },
   "source": [
    "Drop the snow_depth_mm and precipitation_mm variables  "
   ]
  },
  {
   "cell_type": "code",
   "execution_count": 5,
   "id": "681c8afc",
   "metadata": {
    "execution": {
     "iopub.execute_input": "2024-06-24T11:15:56.832588Z",
     "iopub.status.busy": "2024-06-24T11:15:56.831688Z",
     "iopub.status.idle": "2024-06-24T11:15:56.893140Z",
     "shell.execute_reply": "2024-06-24T11:15:56.892157Z"
    },
    "id": "L7Yvi2uewjsF",
    "outputId": "60df82c2-e0fb-499f-d72c-dfa1931e7888",
    "papermill": {
     "duration": 0.074521,
     "end_time": "2024-06-24T11:15:56.895272",
     "exception": false,
     "start_time": "2024-06-24T11:15:56.820751",
     "status": "completed"
    },
    "tags": []
   },
   "outputs": [
    {
     "data": {
      "text/plain": [
       "city_id               0\n",
       "date                  0\n",
       "avg_temp_c            0\n",
       "min_temp_c            0\n",
       "max_temp_c            0\n",
       "avg_wind_dir_deg      0\n",
       "avg_wind_speed_kmh    0\n",
       "dtype: int64"
      ]
     },
     "execution_count": 5,
     "metadata": {},
     "output_type": "execute_result"
    }
   ],
   "source": [
    "data = data[['city_id','date','avg_temp_c','min_temp_c', 'max_temp_c','avg_wind_dir_deg', 'avg_wind_speed_kmh']]\n",
    "data=data.dropna()\n",
    "\n",
    "data.isna().sum()"
   ]
  },
  {
   "cell_type": "markdown",
   "id": "11e4da43",
   "metadata": {
    "id": "LeIEcgPJyDsZ",
    "papermill": {
     "duration": 0.009587,
     "end_time": "2024-06-24T11:15:56.914836",
     "exception": false,
     "start_time": "2024-06-24T11:15:56.905249",
     "status": "completed"
    },
    "tags": []
   },
   "source": [
    "# Extract features from the date"
   ]
  },
  {
   "cell_type": "code",
   "execution_count": 6,
   "id": "f9ddf13b",
   "metadata": {
    "execution": {
     "iopub.execute_input": "2024-06-24T11:15:56.936744Z",
     "iopub.status.busy": "2024-06-24T11:15:56.935693Z",
     "iopub.status.idle": "2024-06-24T11:15:56.995696Z",
     "shell.execute_reply": "2024-06-24T11:15:56.994651Z"
    },
    "id": "6kCyEEPhxFsm",
    "papermill": {
     "duration": 0.073482,
     "end_time": "2024-06-24T11:15:56.998265",
     "exception": false,
     "start_time": "2024-06-24T11:15:56.924783",
     "status": "completed"
    },
    "tags": []
   },
   "outputs": [],
   "source": [
    "data['date'] = pd.to_datetime(data['date'])\n",
    "data['year'] = data['date'].dt.year\n",
    "data['month'] = data['date'].dt.month\n",
    "data['day'] = data['date'].dt.day\n",
    "data['day_of_week'] = data['date'].dt.dayofweek"
   ]
  },
  {
   "cell_type": "markdown",
   "id": "d2fb5a95",
   "metadata": {
    "id": "VB8FAdrUyNeN",
    "papermill": {
     "duration": 0.009607,
     "end_time": "2024-06-24T11:15:57.017949",
     "exception": false,
     "start_time": "2024-06-24T11:15:57.008342",
     "status": "completed"
    },
    "tags": []
   },
   "source": [
    "Drop the original date column and convert city_id to numeric value"
   ]
  },
  {
   "cell_type": "code",
   "execution_count": 7,
   "id": "a542567b",
   "metadata": {
    "execution": {
     "iopub.execute_input": "2024-06-24T11:15:57.039352Z",
     "iopub.status.busy": "2024-06-24T11:15:57.038927Z",
     "iopub.status.idle": "2024-06-24T11:15:57.244233Z",
     "shell.execute_reply": "2024-06-24T11:15:57.243190Z"
    },
    "id": "RIDU_3MtlfxT",
    "papermill": {
     "duration": 0.218908,
     "end_time": "2024-06-24T11:15:57.246752",
     "exception": false,
     "start_time": "2024-06-24T11:15:57.027844",
     "status": "completed"
    },
    "tags": []
   },
   "outputs": [],
   "source": [
    "data = data.drop(columns=['date'])\n",
    "\n",
    "data['city_id'] = data['city_id'].str.extract(r'(\\d+)', expand=False)\n",
    "data['city_id']=pd.to_numeric(data['city_id'])"
   ]
  },
  {
   "cell_type": "markdown",
   "id": "aa44c7ed",
   "metadata": {
    "id": "rDJYARcgyddj",
    "papermill": {
     "duration": 0.009614,
     "end_time": "2024-06-24T11:15:57.266453",
     "exception": false,
     "start_time": "2024-06-24T11:15:57.256839",
     "status": "completed"
    },
    "tags": []
   },
   "source": [
    "# Split into features and target variables"
   ]
  },
  {
   "cell_type": "code",
   "execution_count": 8,
   "id": "ddd931d6",
   "metadata": {
    "execution": {
     "iopub.execute_input": "2024-06-24T11:15:57.287860Z",
     "iopub.status.busy": "2024-06-24T11:15:57.287484Z",
     "iopub.status.idle": "2024-06-24T11:15:57.298135Z",
     "shell.execute_reply": "2024-06-24T11:15:57.297210Z"
    },
    "id": "6lUhhf_hyX_9",
    "papermill": {
     "duration": 0.024235,
     "end_time": "2024-06-24T11:15:57.300513",
     "exception": false,
     "start_time": "2024-06-24T11:15:57.276278",
     "status": "completed"
    },
    "tags": []
   },
   "outputs": [],
   "source": [
    "X = data[['city_id', 'year', 'month', 'day', 'day_of_week']]\n",
    "y = data[['min_temp_c', 'max_temp_c', 'avg_wind_dir_deg', 'avg_wind_speed_kmh']]\n"
   ]
  },
  {
   "cell_type": "markdown",
   "id": "42bf89c8",
   "metadata": {
    "id": "qhWsAlGOyiSs",
    "papermill": {
     "duration": 0.009896,
     "end_time": "2024-06-24T11:15:57.320563",
     "exception": false,
     "start_time": "2024-06-24T11:15:57.310667",
     "status": "completed"
    },
    "tags": []
   },
   "source": [
    "# Split into training and testing sets"
   ]
  },
  {
   "cell_type": "code",
   "execution_count": 9,
   "id": "64fcab85",
   "metadata": {
    "execution": {
     "iopub.execute_input": "2024-06-24T11:15:57.343814Z",
     "iopub.status.busy": "2024-06-24T11:15:57.342853Z",
     "iopub.status.idle": "2024-06-24T11:15:57.376922Z",
     "shell.execute_reply": "2024-06-24T11:15:57.375783Z"
    },
    "id": "6-RPNgGPliYs",
    "papermill": {
     "duration": 0.048331,
     "end_time": "2024-06-24T11:15:57.379522",
     "exception": false,
     "start_time": "2024-06-24T11:15:57.331191",
     "status": "completed"
    },
    "tags": []
   },
   "outputs": [],
   "source": [
    "X_train, X_test, y_train, y_test = train_test_split(X, y, test_size=0.2, random_state=42)\n"
   ]
  },
  {
   "cell_type": "markdown",
   "id": "db83b6df",
   "metadata": {
    "id": "jwCC7JeVyosC",
    "papermill": {
     "duration": 0.009858,
     "end_time": "2024-06-24T11:15:57.399498",
     "exception": false,
     "start_time": "2024-06-24T11:15:57.389640",
     "status": "completed"
    },
    "tags": []
   },
   "source": [
    "# Initialize models for each target variable"
   ]
  },
  {
   "cell_type": "code",
   "execution_count": 10,
   "id": "0786e545",
   "metadata": {
    "execution": {
     "iopub.execute_input": "2024-06-24T11:15:57.421515Z",
     "iopub.status.busy": "2024-06-24T11:15:57.420637Z",
     "iopub.status.idle": "2024-06-24T11:15:57.426088Z",
     "shell.execute_reply": "2024-06-24T11:15:57.425142Z"
    },
    "id": "NneYhjCtyn5Q",
    "papermill": {
     "duration": 0.018858,
     "end_time": "2024-06-24T11:15:57.428361",
     "exception": false,
     "start_time": "2024-06-24T11:15:57.409503",
     "status": "completed"
    },
    "tags": []
   },
   "outputs": [],
   "source": [
    "models = {\n",
    "    'min_temp_c': RandomForestRegressor(),\n",
    "    'max_temp_c': RandomForestRegressor(),\n",
    "    'avg_wind_dir_deg': RandomForestRegressor(),\n",
    "    'avg_wind_speed_kmh': RandomForestRegressor()\n",
    "}\n"
   ]
  },
  {
   "cell_type": "markdown",
   "id": "3dd5407a",
   "metadata": {
    "id": "dp9OJwDWy3Ju",
    "papermill": {
     "duration": 0.009849,
     "end_time": "2024-06-24T11:15:57.448647",
     "exception": false,
     "start_time": "2024-06-24T11:15:57.438798",
     "status": "completed"
    },
    "tags": []
   },
   "source": [
    "# Train each model\n"
   ]
  },
  {
   "cell_type": "code",
   "execution_count": 11,
   "id": "9e3a4704",
   "metadata": {
    "execution": {
     "iopub.execute_input": "2024-06-24T11:15:57.470675Z",
     "iopub.status.busy": "2024-06-24T11:15:57.469809Z",
     "iopub.status.idle": "2024-06-24T11:18:00.240610Z",
     "shell.execute_reply": "2024-06-24T11:18:00.239467Z"
    },
    "id": "9bNtzTp3yy74",
    "papermill": {
     "duration": 122.784895,
     "end_time": "2024-06-24T11:18:00.243455",
     "exception": false,
     "start_time": "2024-06-24T11:15:57.458560",
     "status": "completed"
    },
    "tags": []
   },
   "outputs": [],
   "source": [
    "for feature in models:\n",
    "    models[feature].fit(X_train, y_train[feature])"
   ]
  },
  {
   "cell_type": "markdown",
   "id": "114b32af",
   "metadata": {
    "id": "V1GUYHDNy6R8",
    "papermill": {
     "duration": 0.009851,
     "end_time": "2024-06-24T11:18:00.263865",
     "exception": false,
     "start_time": "2024-06-24T11:18:00.254014",
     "status": "completed"
    },
    "tags": []
   },
   "source": [
    "# Predict the features\n"
   ]
  },
  {
   "cell_type": "code",
   "execution_count": 12,
   "id": "2fda7546",
   "metadata": {
    "execution": {
     "iopub.execute_input": "2024-06-24T11:18:00.286524Z",
     "iopub.status.busy": "2024-06-24T11:18:00.286149Z",
     "iopub.status.idle": "2024-06-24T11:18:05.656088Z",
     "shell.execute_reply": "2024-06-24T11:18:05.654750Z"
    },
    "id": "2rLctjdwlloU",
    "papermill": {
     "duration": 5.383989,
     "end_time": "2024-06-24T11:18:05.658514",
     "exception": false,
     "start_time": "2024-06-24T11:18:00.274525",
     "status": "completed"
    },
    "tags": []
   },
   "outputs": [],
   "source": [
    "predictions = {}\n",
    "for feature in models:\n",
    "    predictions[feature] = models[feature].predict(X_test)"
   ]
  },
  {
   "cell_type": "markdown",
   "id": "0c5e240f",
   "metadata": {
    "id": "fnMyXoeszBjX",
    "papermill": {
     "duration": 0.070412,
     "end_time": "2024-06-24T11:18:05.739669",
     "exception": false,
     "start_time": "2024-06-24T11:18:05.669257",
     "status": "completed"
    },
    "tags": []
   },
   "source": [
    "Convert predictions to DataFrame\n"
   ]
  },
  {
   "cell_type": "code",
   "execution_count": 13,
   "id": "8f377865",
   "metadata": {
    "execution": {
     "iopub.execute_input": "2024-06-24T11:18:05.762056Z",
     "iopub.status.busy": "2024-06-24T11:18:05.761671Z",
     "iopub.status.idle": "2024-06-24T11:18:05.767407Z",
     "shell.execute_reply": "2024-06-24T11:18:05.766243Z"
    },
    "id": "QGo4gOuDy90z",
    "papermill": {
     "duration": 0.019509,
     "end_time": "2024-06-24T11:18:05.769589",
     "exception": false,
     "start_time": "2024-06-24T11:18:05.750080",
     "status": "completed"
    },
    "tags": []
   },
   "outputs": [],
   "source": [
    "predicted_features = pd.DataFrame(predictions)"
   ]
  },
  {
   "cell_type": "markdown",
   "id": "a52c2b5e",
   "metadata": {
    "id": "xFu7HiZWzJLy",
    "papermill": {
     "duration": 0.009918,
     "end_time": "2024-06-24T11:18:05.789878",
     "exception": false,
     "start_time": "2024-06-24T11:18:05.779960",
     "status": "completed"
    },
    "tags": []
   },
   "source": [
    "# Split the data to get average temperature as target\n"
   ]
  },
  {
   "cell_type": "code",
   "execution_count": 14,
   "id": "ef3c02db",
   "metadata": {
    "execution": {
     "iopub.execute_input": "2024-06-24T11:18:05.812036Z",
     "iopub.status.busy": "2024-06-24T11:18:05.811363Z",
     "iopub.status.idle": "2024-06-24T11:18:05.823181Z",
     "shell.execute_reply": "2024-06-24T11:18:05.822183Z"
    },
    "id": "rL0_nRshzHYA",
    "papermill": {
     "duration": 0.025286,
     "end_time": "2024-06-24T11:18:05.825479",
     "exception": false,
     "start_time": "2024-06-24T11:18:05.800193",
     "status": "completed"
    },
    "tags": []
   },
   "outputs": [],
   "source": [
    "X_avg_temp = predicted_features\n",
    "y_avg_temp = data.loc[X_test.index, 'avg_temp_c']"
   ]
  },
  {
   "cell_type": "markdown",
   "id": "f8153d43",
   "metadata": {
    "id": "44XOY9J-zOto",
    "papermill": {
     "duration": 0.010112,
     "end_time": "2024-06-24T11:18:05.845886",
     "exception": false,
     "start_time": "2024-06-24T11:18:05.835774",
     "status": "completed"
    },
    "tags": []
   },
   "source": [
    "Split into training and testing sets for average temperature\n"
   ]
  },
  {
   "cell_type": "code",
   "execution_count": 15,
   "id": "3e534e40",
   "metadata": {
    "execution": {
     "iopub.execute_input": "2024-06-24T11:18:05.868551Z",
     "iopub.status.busy": "2024-06-24T11:18:05.867709Z",
     "iopub.status.idle": "2024-06-24T11:18:05.877037Z",
     "shell.execute_reply": "2024-06-24T11:18:05.876037Z"
    },
    "id": "OJirmzsblnzw",
    "papermill": {
     "duration": 0.02304,
     "end_time": "2024-06-24T11:18:05.879395",
     "exception": false,
     "start_time": "2024-06-24T11:18:05.856355",
     "status": "completed"
    },
    "tags": []
   },
   "outputs": [],
   "source": [
    "X_avg_temp_train, X_avg_temp_test, y_avg_temp_train, y_avg_temp_test = train_test_split(X_avg_temp, y_avg_temp, test_size=0.2, random_state=42)\n"
   ]
  },
  {
   "cell_type": "markdown",
   "id": "2f8555c1",
   "metadata": {
    "id": "u8LbjgnZzUtm",
    "papermill": {
     "duration": 0.010063,
     "end_time": "2024-06-24T11:18:05.899963",
     "exception": false,
     "start_time": "2024-06-24T11:18:05.889900",
     "status": "completed"
    },
    "tags": []
   },
   "source": [
    "Initialize and train the model\n"
   ]
  },
  {
   "cell_type": "code",
   "execution_count": 16,
   "id": "80d10e8a",
   "metadata": {
    "execution": {
     "iopub.execute_input": "2024-06-24T11:18:05.922162Z",
     "iopub.status.busy": "2024-06-24T11:18:05.921764Z",
     "iopub.status.idle": "2024-06-24T11:18:17.325208Z",
     "shell.execute_reply": "2024-06-24T11:18:17.324222Z"
    },
    "id": "ttJhKE-ZzSnM",
    "outputId": "e1164e32-c3ec-4c5c-a773-6a9120adb161",
    "papermill": {
     "duration": 11.417091,
     "end_time": "2024-06-24T11:18:17.327506",
     "exception": false,
     "start_time": "2024-06-24T11:18:05.910415",
     "status": "completed"
    },
    "tags": []
   },
   "outputs": [
    {
     "data": {
      "text/html": [
       "<style>#sk-container-id-1 {color: black;background-color: white;}#sk-container-id-1 pre{padding: 0;}#sk-container-id-1 div.sk-toggleable {background-color: white;}#sk-container-id-1 label.sk-toggleable__label {cursor: pointer;display: block;width: 100%;margin-bottom: 0;padding: 0.3em;box-sizing: border-box;text-align: center;}#sk-container-id-1 label.sk-toggleable__label-arrow:before {content: \"▸\";float: left;margin-right: 0.25em;color: #696969;}#sk-container-id-1 label.sk-toggleable__label-arrow:hover:before {color: black;}#sk-container-id-1 div.sk-estimator:hover label.sk-toggleable__label-arrow:before {color: black;}#sk-container-id-1 div.sk-toggleable__content {max-height: 0;max-width: 0;overflow: hidden;text-align: left;background-color: #f0f8ff;}#sk-container-id-1 div.sk-toggleable__content pre {margin: 0.2em;color: black;border-radius: 0.25em;background-color: #f0f8ff;}#sk-container-id-1 input.sk-toggleable__control:checked~div.sk-toggleable__content {max-height: 200px;max-width: 100%;overflow: auto;}#sk-container-id-1 input.sk-toggleable__control:checked~label.sk-toggleable__label-arrow:before {content: \"▾\";}#sk-container-id-1 div.sk-estimator input.sk-toggleable__control:checked~label.sk-toggleable__label {background-color: #d4ebff;}#sk-container-id-1 div.sk-label input.sk-toggleable__control:checked~label.sk-toggleable__label {background-color: #d4ebff;}#sk-container-id-1 input.sk-hidden--visually {border: 0;clip: rect(1px 1px 1px 1px);clip: rect(1px, 1px, 1px, 1px);height: 1px;margin: -1px;overflow: hidden;padding: 0;position: absolute;width: 1px;}#sk-container-id-1 div.sk-estimator {font-family: monospace;background-color: #f0f8ff;border: 1px dotted black;border-radius: 0.25em;box-sizing: border-box;margin-bottom: 0.5em;}#sk-container-id-1 div.sk-estimator:hover {background-color: #d4ebff;}#sk-container-id-1 div.sk-parallel-item::after {content: \"\";width: 100%;border-bottom: 1px solid gray;flex-grow: 1;}#sk-container-id-1 div.sk-label:hover label.sk-toggleable__label {background-color: #d4ebff;}#sk-container-id-1 div.sk-serial::before {content: \"\";position: absolute;border-left: 1px solid gray;box-sizing: border-box;top: 0;bottom: 0;left: 50%;z-index: 0;}#sk-container-id-1 div.sk-serial {display: flex;flex-direction: column;align-items: center;background-color: white;padding-right: 0.2em;padding-left: 0.2em;position: relative;}#sk-container-id-1 div.sk-item {position: relative;z-index: 1;}#sk-container-id-1 div.sk-parallel {display: flex;align-items: stretch;justify-content: center;background-color: white;position: relative;}#sk-container-id-1 div.sk-item::before, #sk-container-id-1 div.sk-parallel-item::before {content: \"\";position: absolute;border-left: 1px solid gray;box-sizing: border-box;top: 0;bottom: 0;left: 50%;z-index: -1;}#sk-container-id-1 div.sk-parallel-item {display: flex;flex-direction: column;z-index: 1;position: relative;background-color: white;}#sk-container-id-1 div.sk-parallel-item:first-child::after {align-self: flex-end;width: 50%;}#sk-container-id-1 div.sk-parallel-item:last-child::after {align-self: flex-start;width: 50%;}#sk-container-id-1 div.sk-parallel-item:only-child::after {width: 0;}#sk-container-id-1 div.sk-dashed-wrapped {border: 1px dashed gray;margin: 0 0.4em 0.5em 0.4em;box-sizing: border-box;padding-bottom: 0.4em;background-color: white;}#sk-container-id-1 div.sk-label label {font-family: monospace;font-weight: bold;display: inline-block;line-height: 1.2em;}#sk-container-id-1 div.sk-label-container {text-align: center;}#sk-container-id-1 div.sk-container {/* jupyter's `normalize.less` sets `[hidden] { display: none; }` but bootstrap.min.css set `[hidden] { display: none !important; }` so we also need the `!important` here to be able to override the default hidden behavior on the sphinx rendered scikit-learn.org. See: https://github.com/scikit-learn/scikit-learn/issues/21755 */display: inline-block !important;position: relative;}#sk-container-id-1 div.sk-text-repr-fallback {display: none;}</style><div id=\"sk-container-id-1\" class=\"sk-top-container\"><div class=\"sk-text-repr-fallback\"><pre>RandomForestRegressor()</pre><b>In a Jupyter environment, please rerun this cell to show the HTML representation or trust the notebook. <br />On GitHub, the HTML representation is unable to render, please try loading this page with nbviewer.org.</b></div><div class=\"sk-container\" hidden><div class=\"sk-item\"><div class=\"sk-estimator sk-toggleable\"><input class=\"sk-toggleable__control sk-hidden--visually\" id=\"sk-estimator-id-1\" type=\"checkbox\" checked><label for=\"sk-estimator-id-1\" class=\"sk-toggleable__label sk-toggleable__label-arrow\">RandomForestRegressor</label><div class=\"sk-toggleable__content\"><pre>RandomForestRegressor()</pre></div></div></div></div></div>"
      ],
      "text/plain": [
       "RandomForestRegressor()"
      ]
     },
     "execution_count": 16,
     "metadata": {},
     "output_type": "execute_result"
    }
   ],
   "source": [
    "avg_temp_model = RandomForestRegressor()\n",
    "avg_temp_model.fit(X_avg_temp_train, y_avg_temp_train)\n"
   ]
  },
  {
   "cell_type": "markdown",
   "id": "123e7981",
   "metadata": {
    "id": "2D1G2rryzcLp",
    "papermill": {
     "duration": 0.010658,
     "end_time": "2024-06-24T11:18:17.349058",
     "exception": false,
     "start_time": "2024-06-24T11:18:17.338400",
     "status": "completed"
    },
    "tags": []
   },
   "source": [
    "# Predict the average temperature\n"
   ]
  },
  {
   "cell_type": "code",
   "execution_count": 17,
   "id": "860dcd46",
   "metadata": {
    "execution": {
     "iopub.execute_input": "2024-06-24T11:18:17.372524Z",
     "iopub.status.busy": "2024-06-24T11:18:17.371617Z",
     "iopub.status.idle": "2024-06-24T11:18:17.575185Z",
     "shell.execute_reply": "2024-06-24T11:18:17.574180Z"
    },
    "id": "2CnNGffblp1K",
    "papermill": {
     "duration": 0.217944,
     "end_time": "2024-06-24T11:18:17.577697",
     "exception": false,
     "start_time": "2024-06-24T11:18:17.359753",
     "status": "completed"
    },
    "tags": []
   },
   "outputs": [],
   "source": [
    "avg_temp_predictions = avg_temp_model.predict(X_avg_temp_test)"
   ]
  },
  {
   "cell_type": "code",
   "execution_count": 18,
   "id": "31208bb9",
   "metadata": {
    "execution": {
     "iopub.execute_input": "2024-06-24T11:18:17.601713Z",
     "iopub.status.busy": "2024-06-24T11:18:17.601325Z",
     "iopub.status.idle": "2024-06-24T11:18:17.608593Z",
     "shell.execute_reply": "2024-06-24T11:18:17.607547Z"
    },
    "id": "Na8iMMSslwHn",
    "outputId": "871f9f28-0b8b-4923-d878-8753d36157e1",
    "papermill": {
     "duration": 0.022354,
     "end_time": "2024-06-24T11:18:17.611034",
     "exception": false,
     "start_time": "2024-06-24T11:18:17.588680",
     "status": "completed"
    },
    "tags": []
   },
   "outputs": [
    {
     "data": {
      "text/plain": [
       "array([22.383, 26.921, 30.692, ...,  9.829, 32.764,  8.053])"
      ]
     },
     "execution_count": 18,
     "metadata": {},
     "output_type": "execute_result"
    }
   ],
   "source": [
    "avg_temp_predictions"
   ]
  },
  {
   "cell_type": "code",
   "execution_count": 19,
   "id": "6872c526",
   "metadata": {
    "execution": {
     "iopub.execute_input": "2024-06-24T11:18:17.634816Z",
     "iopub.status.busy": "2024-06-24T11:18:17.634426Z",
     "iopub.status.idle": "2024-06-24T11:18:17.643368Z",
     "shell.execute_reply": "2024-06-24T11:18:17.642321Z"
    },
    "id": "LnjrW7xclzR4",
    "outputId": "b583ccc8-d288-40fb-ebc4-aa9268da94ee",
    "papermill": {
     "duration": 0.023276,
     "end_time": "2024-06-24T11:18:17.645472",
     "exception": false,
     "start_time": "2024-06-24T11:18:17.622196",
     "status": "completed"
    },
    "tags": []
   },
   "outputs": [
    {
     "data": {
      "text/plain": [
       "9851      18.7\n",
       "178376    28.9\n",
       "161265    30.5\n",
       "157141     7.7\n",
       "79840     28.7\n",
       "          ... \n",
       "35744     28.7\n",
       "126556    27.0\n",
       "77000     10.3\n",
       "116425    33.9\n",
       "80816      1.4\n",
       "Name: avg_temp_c, Length: 5869, dtype: float64"
      ]
     },
     "execution_count": 19,
     "metadata": {},
     "output_type": "execute_result"
    }
   ],
   "source": [
    "y_avg_temp_test"
   ]
  },
  {
   "cell_type": "markdown",
   "id": "bc7cd53f",
   "metadata": {
    "id": "78O9yRFQzizm",
    "papermill": {
     "duration": 0.010858,
     "end_time": "2024-06-24T11:18:17.667650",
     "exception": false,
     "start_time": "2024-06-24T11:18:17.656792",
     "status": "completed"
    },
    "tags": []
   },
   "source": [
    "# Evaluate weather feature models"
   ]
  },
  {
   "cell_type": "code",
   "execution_count": 20,
   "id": "e2995851",
   "metadata": {
    "execution": {
     "iopub.execute_input": "2024-06-24T11:18:17.691736Z",
     "iopub.status.busy": "2024-06-24T11:18:17.691375Z",
     "iopub.status.idle": "2024-06-24T11:18:17.701499Z",
     "shell.execute_reply": "2024-06-24T11:18:17.700285Z"
    },
    "id": "za4wz99nzg6p",
    "outputId": "c22e9d27-98bd-4bac-9ea0-1f11b62f1b24",
    "papermill": {
     "duration": 0.025058,
     "end_time": "2024-06-24T11:18:17.703743",
     "exception": false,
     "start_time": "2024-06-24T11:18:17.678685",
     "status": "completed"
    },
    "tags": []
   },
   "outputs": [
    {
     "name": "stdout",
     "output_type": "stream",
     "text": [
      "MSE for min_temp_c: 5.609324403782586\n",
      "MSE for max_temp_c: 6.967529732833533\n",
      "MSE for avg_wind_dir_deg: 8314.988398756177\n",
      "MSE for avg_wind_speed_kmh: 16.58357706931334\n"
     ]
    }
   ],
   "source": [
    "for feature in models:\n",
    "    mse = mean_squared_error(y_test[feature], predictions[feature])\n",
    "    print(f'MSE for {feature}: {mse}')\n"
   ]
  },
  {
   "cell_type": "markdown",
   "id": "d2198758",
   "metadata": {
    "id": "B1rOg2DRzn95",
    "papermill": {
     "duration": 0.010975,
     "end_time": "2024-06-24T11:18:17.726296",
     "exception": false,
     "start_time": "2024-06-24T11:18:17.715321",
     "status": "completed"
    },
    "tags": []
   },
   "source": [
    "# Evaluate average temperature model"
   ]
  },
  {
   "cell_type": "code",
   "execution_count": 21,
   "id": "d45bf9fe",
   "metadata": {
    "execution": {
     "iopub.execute_input": "2024-06-24T11:18:17.750577Z",
     "iopub.status.busy": "2024-06-24T11:18:17.750188Z",
     "iopub.status.idle": "2024-06-24T11:18:17.757138Z",
     "shell.execute_reply": "2024-06-24T11:18:17.756058Z"
    },
    "id": "GWS7bKJXl1w6",
    "outputId": "b36ef440-acc2-45d3-d2d7-e42618d0c359",
    "papermill": {
     "duration": 0.021991,
     "end_time": "2024-06-24T11:18:17.759588",
     "exception": false,
     "start_time": "2024-06-24T11:18:17.737597",
     "status": "completed"
    },
    "tags": []
   },
   "outputs": [
    {
     "name": "stdout",
     "output_type": "stream",
     "text": [
      "RMSE for average temperature: 2.20790174201717\n"
     ]
    }
   ],
   "source": [
    "avg_temp_mse = mean_squared_error(y_avg_temp_test, avg_temp_predictions)\n",
    "\n",
    "avg_temp_rmse = np.sqrt(avg_temp_mse)\n",
    "print(f'RMSE for average temperature: {avg_temp_rmse}')"
   ]
  },
  {
   "cell_type": "markdown",
   "id": "ca9c32a5",
   "metadata": {
    "id": "wJrA7gZ7zsaY",
    "papermill": {
     "duration": 0.011106,
     "end_time": "2024-06-24T11:18:17.782184",
     "exception": false,
     "start_time": "2024-06-24T11:18:17.771078",
     "status": "completed"
    },
    "tags": []
   },
   "source": [
    "#Reading the submission key file"
   ]
  },
  {
   "cell_type": "code",
   "execution_count": 22,
   "id": "739dcc55",
   "metadata": {
    "execution": {
     "iopub.execute_input": "2024-06-24T11:18:17.806370Z",
     "iopub.status.busy": "2024-06-24T11:18:17.805967Z",
     "iopub.status.idle": "2024-06-24T11:18:17.823757Z",
     "shell.execute_reply": "2024-06-24T11:18:17.822731Z"
    },
    "id": "d_EdYJNql43u",
    "papermill": {
     "duration": 0.032823,
     "end_time": "2024-06-24T11:18:17.826403",
     "exception": false,
     "start_time": "2024-06-24T11:18:17.793580",
     "status": "completed"
    },
    "tags": []
   },
   "outputs": [],
   "source": [
    "submission_key=pd.read_csv(\"/kaggle/input/predicta-1-0-predict-the-unpredictable/submission_key.csv\")\n",
    "\n",
    "# Extract features from the date\n",
    "submission_key['date'] = pd.to_datetime(submission_key['date'])\n",
    "submission_key['year'] = submission_key['date'].dt.year\n",
    "submission_key['month'] = submission_key['date'].dt.month\n",
    "submission_key['day'] = submission_key['date'].dt.day\n",
    "submission_key['day_of_week'] = submission_key['date'].dt.dayofweek"
   ]
  },
  {
   "cell_type": "markdown",
   "id": "564f08c7",
   "metadata": {
    "id": "AtIFvpvWz2J9",
    "papermill": {
     "duration": 0.011209,
     "end_time": "2024-06-24T11:18:17.849182",
     "exception": false,
     "start_time": "2024-06-24T11:18:17.837973",
     "status": "completed"
    },
    "tags": []
   },
   "source": [
    "Convert city_id(Object) to numeric"
   ]
  },
  {
   "cell_type": "code",
   "execution_count": 23,
   "id": "b59cd404",
   "metadata": {
    "execution": {
     "iopub.execute_input": "2024-06-24T11:18:17.873612Z",
     "iopub.status.busy": "2024-06-24T11:18:17.873234Z",
     "iopub.status.idle": "2024-06-24T11:18:17.880648Z",
     "shell.execute_reply": "2024-06-24T11:18:17.879216Z"
    },
    "id": "AqkFOI_rl6hN",
    "papermill": {
     "duration": 0.022674,
     "end_time": "2024-06-24T11:18:17.883149",
     "exception": false,
     "start_time": "2024-06-24T11:18:17.860475",
     "status": "completed"
    },
    "tags": []
   },
   "outputs": [],
   "source": [
    "submission_key['city_id'] = submission_key['city_id'].str.extract(r'(\\d+)', expand=False)\n",
    "submission_key['city_id']=pd.to_numeric(submission_key['city_id'])"
   ]
  },
  {
   "cell_type": "code",
   "execution_count": 24,
   "id": "9d8de1cf",
   "metadata": {
    "execution": {
     "iopub.execute_input": "2024-06-24T11:18:17.908781Z",
     "iopub.status.busy": "2024-06-24T11:18:17.908391Z",
     "iopub.status.idle": "2024-06-24T11:18:18.005327Z",
     "shell.execute_reply": "2024-06-24T11:18:18.004241Z"
    },
    "id": "nMnznRY1l8hD",
    "papermill": {
     "duration": 0.113075,
     "end_time": "2024-06-24T11:18:18.007948",
     "exception": false,
     "start_time": "2024-06-24T11:18:17.894873",
     "status": "completed"
    },
    "tags": []
   },
   "outputs": [],
   "source": [
    "X1 = submission_key[['city_id', 'year', 'month', 'day', 'day_of_week']]\n",
    "predictions1 = {}\n",
    "for feature in models:\n",
    "    predictions1[feature] = models[feature].predict(X1)"
   ]
  },
  {
   "cell_type": "markdown",
   "id": "1aaf022e",
   "metadata": {
    "id": "_n5S_a-_0Cqh",
    "papermill": {
     "duration": 0.011301,
     "end_time": "2024-06-24T11:18:18.031306",
     "exception": false,
     "start_time": "2024-06-24T11:18:18.020005",
     "status": "completed"
    },
    "tags": []
   },
   "source": [
    "#Predict average temoerature for first week of 2019"
   ]
  },
  {
   "cell_type": "code",
   "execution_count": 25,
   "id": "0a871caf",
   "metadata": {
    "execution": {
     "iopub.execute_input": "2024-06-24T11:18:18.056425Z",
     "iopub.status.busy": "2024-06-24T11:18:18.055473Z",
     "iopub.status.idle": "2024-06-24T11:18:18.098778Z",
     "shell.execute_reply": "2024-06-24T11:18:18.097811Z"
    },
    "id": "jP6VrGIcl_mz",
    "outputId": "1748f61e-34ee-48c9-91f6-e190d08d3679",
    "papermill": {
     "duration": 0.058557,
     "end_time": "2024-06-24T11:18:18.101291",
     "exception": false,
     "start_time": "2024-06-24T11:18:18.042734",
     "status": "completed"
    },
    "tags": []
   },
   "outputs": [
    {
     "data": {
      "text/plain": [
       "(700,)"
      ]
     },
     "execution_count": 25,
     "metadata": {},
     "output_type": "execute_result"
    }
   ],
   "source": [
    "# Convert predictions to DataFrame\n",
    "predicted_features1 = pd.DataFrame(predictions1)\n",
    "\n",
    "X_avg_temp1 = predicted_features1\n",
    "# Predict the average temperature\n",
    "avg_temp_predictions1 = avg_temp_model.predict(X_avg_temp1)\n",
    "avg_temp_predictions1.shape"
   ]
  },
  {
   "cell_type": "code",
   "execution_count": 26,
   "id": "6be54e8f",
   "metadata": {
    "execution": {
     "iopub.execute_input": "2024-06-24T11:18:18.126727Z",
     "iopub.status.busy": "2024-06-24T11:18:18.126371Z",
     "iopub.status.idle": "2024-06-24T11:18:18.136172Z",
     "shell.execute_reply": "2024-06-24T11:18:18.135029Z"
    },
    "id": "J32RjANGmBjy",
    "papermill": {
     "duration": 0.025354,
     "end_time": "2024-06-24T11:18:18.138656",
     "exception": false,
     "start_time": "2024-06-24T11:18:18.113302",
     "status": "completed"
    },
    "tags": []
   },
   "outputs": [],
   "source": [
    "sample_submission = pd.read_csv(\"/kaggle/input/predicta-1-0-predict-the-unpredictable/sample_submission.csv\")"
   ]
  },
  {
   "cell_type": "markdown",
   "id": "102a51b3",
   "metadata": {
    "id": "I97C_fvH0VLn",
    "papermill": {
     "duration": 0.01175,
     "end_time": "2024-06-24T11:18:18.162416",
     "exception": false,
     "start_time": "2024-06-24T11:18:18.150666",
     "status": "completed"
    },
    "tags": []
   },
   "source": [
    "Update avg_temp_c with predicted value"
   ]
  },
  {
   "cell_type": "code",
   "execution_count": 27,
   "id": "b65e9f0a",
   "metadata": {
    "execution": {
     "iopub.execute_input": "2024-06-24T11:18:18.188046Z",
     "iopub.status.busy": "2024-06-24T11:18:18.187655Z",
     "iopub.status.idle": "2024-06-24T11:18:18.193167Z",
     "shell.execute_reply": "2024-06-24T11:18:18.192047Z"
    },
    "id": "c3sA99vsmDIK",
    "papermill": {
     "duration": 0.02119,
     "end_time": "2024-06-24T11:18:18.195329",
     "exception": false,
     "start_time": "2024-06-24T11:18:18.174139",
     "status": "completed"
    },
    "tags": []
   },
   "outputs": [],
   "source": [
    "sample_submission['avg_temp_c'] = avg_temp_predictions1"
   ]
  },
  {
   "cell_type": "code",
   "execution_count": 28,
   "id": "7f78a4e0",
   "metadata": {
    "execution": {
     "iopub.execute_input": "2024-06-24T11:18:18.221627Z",
     "iopub.status.busy": "2024-06-24T11:18:18.221219Z",
     "iopub.status.idle": "2024-06-24T11:18:18.234655Z",
     "shell.execute_reply": "2024-06-24T11:18:18.233703Z"
    },
    "id": "HvyQ2iVGmFAE",
    "outputId": "8549cf1e-c4a6-4918-f86a-f678e3c19f38",
    "papermill": {
     "duration": 0.029317,
     "end_time": "2024-06-24T11:18:18.237046",
     "exception": false,
     "start_time": "2024-06-24T11:18:18.207729",
     "status": "completed"
    },
    "tags": []
   },
   "outputs": [
    {
     "data": {
      "text/html": [
       "<div>\n",
       "<style scoped>\n",
       "    .dataframe tbody tr th:only-of-type {\n",
       "        vertical-align: middle;\n",
       "    }\n",
       "\n",
       "    .dataframe tbody tr th {\n",
       "        vertical-align: top;\n",
       "    }\n",
       "\n",
       "    .dataframe thead th {\n",
       "        text-align: right;\n",
       "    }\n",
       "</style>\n",
       "<table border=\"1\" class=\"dataframe\">\n",
       "  <thead>\n",
       "    <tr style=\"text-align: right;\">\n",
       "      <th></th>\n",
       "      <th>submission_ID</th>\n",
       "      <th>avg_temp_c</th>\n",
       "    </tr>\n",
       "  </thead>\n",
       "  <tbody>\n",
       "    <tr>\n",
       "      <th>0</th>\n",
       "      <td>1</td>\n",
       "      <td>9.308</td>\n",
       "    </tr>\n",
       "    <tr>\n",
       "      <th>1</th>\n",
       "      <td>2</td>\n",
       "      <td>9.060</td>\n",
       "    </tr>\n",
       "    <tr>\n",
       "      <th>2</th>\n",
       "      <td>3</td>\n",
       "      <td>10.827</td>\n",
       "    </tr>\n",
       "    <tr>\n",
       "      <th>3</th>\n",
       "      <td>4</td>\n",
       "      <td>11.341</td>\n",
       "    </tr>\n",
       "    <tr>\n",
       "      <th>4</th>\n",
       "      <td>5</td>\n",
       "      <td>14.078</td>\n",
       "    </tr>\n",
       "    <tr>\n",
       "      <th>...</th>\n",
       "      <td>...</td>\n",
       "      <td>...</td>\n",
       "    </tr>\n",
       "    <tr>\n",
       "      <th>695</th>\n",
       "      <td>696</td>\n",
       "      <td>20.504</td>\n",
       "    </tr>\n",
       "    <tr>\n",
       "      <th>696</th>\n",
       "      <td>697</td>\n",
       "      <td>20.566</td>\n",
       "    </tr>\n",
       "    <tr>\n",
       "      <th>697</th>\n",
       "      <td>698</td>\n",
       "      <td>20.642</td>\n",
       "    </tr>\n",
       "    <tr>\n",
       "      <th>698</th>\n",
       "      <td>699</td>\n",
       "      <td>20.108</td>\n",
       "    </tr>\n",
       "    <tr>\n",
       "      <th>699</th>\n",
       "      <td>700</td>\n",
       "      <td>20.310</td>\n",
       "    </tr>\n",
       "  </tbody>\n",
       "</table>\n",
       "<p>700 rows × 2 columns</p>\n",
       "</div>"
      ],
      "text/plain": [
       "     submission_ID  avg_temp_c\n",
       "0                1       9.308\n",
       "1                2       9.060\n",
       "2                3      10.827\n",
       "3                4      11.341\n",
       "4                5      14.078\n",
       "..             ...         ...\n",
       "695            696      20.504\n",
       "696            697      20.566\n",
       "697            698      20.642\n",
       "698            699      20.108\n",
       "699            700      20.310\n",
       "\n",
       "[700 rows x 2 columns]"
      ]
     },
     "execution_count": 28,
     "metadata": {},
     "output_type": "execute_result"
    }
   ],
   "source": [
    "sample_submission"
   ]
  },
  {
   "cell_type": "markdown",
   "id": "f52649f3",
   "metadata": {
    "id": "BE8DsVCl0NK9",
    "papermill": {
     "duration": 0.012083,
     "end_time": "2024-06-24T11:18:18.261466",
     "exception": false,
     "start_time": "2024-06-24T11:18:18.249383",
     "status": "completed"
    },
    "tags": []
   },
   "source": [
    "#Save to csv file"
   ]
  },
  {
   "cell_type": "code",
   "execution_count": 29,
   "id": "e724fcd4",
   "metadata": {
    "execution": {
     "iopub.execute_input": "2024-06-24T11:18:18.287364Z",
     "iopub.status.busy": "2024-06-24T11:18:18.286937Z",
     "iopub.status.idle": "2024-06-24T11:18:18.296660Z",
     "shell.execute_reply": "2024-06-24T11:18:18.295540Z"
    },
    "id": "OIO4qeEamHJ0",
    "papermill": {
     "duration": 0.025243,
     "end_time": "2024-06-24T11:18:18.299031",
     "exception": false,
     "start_time": "2024-06-24T11:18:18.273788",
     "status": "completed"
    },
    "tags": []
   },
   "outputs": [],
   "source": [
    "sample_submission = pd.DataFrame(sample_submission)\n",
    "# Specify the file path\n",
    "sample_submission.to_csv('/kaggle/working/P247-sample_submission.csv',index=False)"
   ]
  }
 ],
 "metadata": {
  "colab": {
   "provenance": []
  },
  "kaggle": {
   "accelerator": "none",
   "dataSources": [
    {
     "databundleVersionId": 8892995,
     "sourceId": 81884,
     "sourceType": "competition"
    }
   ],
   "dockerImageVersionId": 30732,
   "isGpuEnabled": false,
   "isInternetEnabled": false,
   "language": "python",
   "sourceType": "notebook"
  },
  "kernelspec": {
   "display_name": "Python 3",
   "language": "python",
   "name": "python3"
  },
  "language_info": {
   "codemirror_mode": {
    "name": "ipython",
    "version": 3
   },
   "file_extension": ".py",
   "mimetype": "text/x-python",
   "name": "python",
   "nbconvert_exporter": "python",
   "pygments_lexer": "ipython3",
   "version": "3.10.13"
  },
  "papermill": {
   "default_parameters": {},
   "duration": 148.116511,
   "end_time": "2024-06-24T11:18:19.134004",
   "environment_variables": {},
   "exception": null,
   "input_path": "__notebook__.ipynb",
   "output_path": "__notebook__.ipynb",
   "parameters": {},
   "start_time": "2024-06-24T11:15:51.017493",
   "version": "2.5.0"
  }
 },
 "nbformat": 4,
 "nbformat_minor": 5
}
